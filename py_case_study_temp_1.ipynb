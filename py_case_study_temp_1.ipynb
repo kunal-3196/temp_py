{
 "cells": [
  {
   "cell_type": "markdown",
   "metadata": {},
   "source": [
    "# Data Preprocessing : Credit Card Routing for Online Purchase via Predictive Modelling\n",
    "### Initial Transformation of dataset through dataframe\n",
    "### Overview\n",
    "Pandas dataframe is used for transforming & selecting features through python.\n",
    "The first two columns given in the file (timestamp) is dropped.\n",
    "Below is the snapshot of the python code & explanation of steps used to derive the cumulative time as an additional feature.\n",
    "\n",
    "\n",
    "\n",
    "\n",
    "\n",
    "\n",
    "\n",
    "\n",
    "\n"
   ]
  },
  {
   "cell_type": "markdown",
   "metadata": {},
   "source": [
    "### Performing transformation of timestamp into numeric values of time difference\n",
    "Below code is used to read the provided csv file & store its data into a dataframe called train_data "
   ]
  },
  {
   "cell_type": "code",
   "execution_count": null,
   "metadata": {},
   "outputs": [],
   "source": [
    "#Importing necessary libraries\n",
    "import pandas as pd\n",
    "import csv  \n",
    "import datetime as dt\n",
    "#Initiating CSV file\n",
    "csv_file=pd.read_csv(\"C:\\\\MISC\\\\IU_downloads\\\\PSP_Jan_Feb_2019.csv\")\n",
    "#Initiating the dataframe\n",
    "train_data=pd.DataFrame(csv_file,index=None);"
   ]
  },
  {
   "cell_type": "markdown",
   "metadata": {},
   "source": [
    "### Writing the time difference obtained from the given timestamps in another file\n",
    "This is done by opening the file through csv writer & iterating through all the rows thereby selecting the timestamp for each row\n",
    "The timestamps of each subsequent rows are subtracted form one another to obtain a difference in seconds. This difference is finally written back to the csv file"
   ]
  },
  {
   "cell_type": "code",
   "execution_count": null,
   "metadata": {},
   "outputs": [],
   "source": [
    "#Providing the timestamp format for conversion of dates\n",
    "format = '%Y-%m-%d %H:%M:%S'\n",
    "#Writing numeric values obtained after converting dates into another csv file\n",
    "with open(\"C:\\\\MISC\\\\IU_downloads\\\\PSP_Jan_Feb_2019_v1.csv\",\"w\") as csvfile:\n",
    "    csvwriter=csv.writer(csvfile)\n",
    "    for i in range(1,len(train_data.axes[0])):\n",
    "          #Converting given timestamp into time difference of seconds starting from 0 seconds with the first record\n",
    "          sec=str((dt.datetime.strptime(train_data[\"tmsp\"][i], format)-dt.datetime.strptime(train_data[\"tmsp\"][i-1], format)).total_seconds())\n",
    "          csvwriter.writerow(sec)"
   ]
  }
 ],
 "metadata": {
  "language_info": {
   "name": "python"
  }
 },
 "nbformat": 4,
 "nbformat_minor": 2
}
