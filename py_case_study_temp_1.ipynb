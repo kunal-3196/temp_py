{
 "cells": [
  {
   "cell_type": "markdown",
   "metadata": {},
   "source": [
    "# Data Preprocessing : Credit Card Routing for Online Purchase via Predictive Modelling\n",
    "### Initial Transformation of dataset through dataframe\n",
    "### Overview\n",
    "**Pandas dataframe** is used for transforming & selecting features through python.\n",
    "Below is the snapshot of the python code & explanation of steps used to derive the cumulative time as an additional feature.\n",
    "\n",
    "The first column tmsp i.e. Original Timestamp provided in the dataset is transformed in a time difference where it’s assumed that the first transaction was initiated at 0 seconds & the next occurred 6 seconds after with the 3rd one occurring 92 seconds after the second & 98 seconds after the 1st transaction. A pattern is followed to consider the time difference obtained as one of the derived features to perform data analysis. Data is prepared using the given excel spreadsheet consisting below details:\n",
    "1.\tTotal transactions(rows): **50470**\n",
    "2.\tTotal features(columns): **7** (Sr. No, timestamp, country, amount, success, PSP, 3D_secured, card)\n",
    "\n",
    "\n",
    "\n",
    "\n",
    "\n",
    "\n",
    "\n",
    "\n",
    "\n",
    "\n",
    "\n",
    "\n"
   ]
  },
  {
   "cell_type": "markdown",
   "metadata": {},
   "source": [
    "### Performing transformation of timestamp into numeric values of time difference\n",
    "Below code is used to read the provided csv file & store its data into a dataframe called train_data\n",
    "\n",
    "**pd.read_csv**=Used to read a given csv file\n",
    "**pd.DataFrame**=Used to convert a given csv file into dataframe"
   ]
  },
  {
   "cell_type": "code",
   "execution_count": null,
   "metadata": {},
   "outputs": [],
   "source": [
    "#Importing necessary libraries\n",
    "import pandas as pd\n",
    "import csv  \n",
    "import datetime as dt\n",
    "#Initiating CSV file\n",
    "csv_file=pd.read_csv(\"C:\\\\MISC\\\\IU_downloads\\\\PSP_Jan_Feb_2019.csv\")\n",
    "#Initiating the dataframe\n",
    "train_data=pd.DataFrame(csv_file,index=None);"
   ]
  },
  {
   "cell_type": "markdown",
   "metadata": {},
   "source": [
    "### Writing the time difference obtained from the given timestamps in another file\n",
    "This is done by opening the file through **csv writer** & iterating through all the rows thereby selecting the timestamp for each row\n",
    "The timestamps of each subsequent rows are subtracted form one another to obtain a difference in **seconds**. This difference is finally written back to the csv file\n",
    "\n",
    "**datetime.strptime**= Used to convert timestamp in required format\n",
    "**csvwriter.writerow**=Used to write the obtained values one by one in each row of csv file"
   ]
  },
  {
   "cell_type": "code",
   "execution_count": null,
   "metadata": {},
   "outputs": [],
   "source": [
    "#Providing the timestamp format for conversion of dates\n",
    "format = '%Y-%m-%d %H:%M:%S'\n",
    "#Writing numeric values obtained after converting dates into another csv file\n",
    "with open(\"C:\\\\MISC\\\\IU_downloads\\\\PSP_Jan_Feb_2019_v1.csv\",\"w\") as csvfile:\n",
    "    csvwriter=csv.writer(csvfile)\n",
    "    for i in range(1,len(train_data.axes[0])):\n",
    "          #Converting given timestamp into time difference of seconds starting from 0 seconds with the first record\n",
    "          sec=str((dt.datetime.strptime(train_data[\"tmsp\"][i], format)-dt.datetime.strptime(train_data[\"tmsp\"][i-1], format)).total_seconds())\n",
    "          csvwriter.writerow(sec)"
   ]
  }
 ],
 "metadata": {
  "language_info": {
   "name": "python"
  }
 },
 "nbformat": 4,
 "nbformat_minor": 2
}
